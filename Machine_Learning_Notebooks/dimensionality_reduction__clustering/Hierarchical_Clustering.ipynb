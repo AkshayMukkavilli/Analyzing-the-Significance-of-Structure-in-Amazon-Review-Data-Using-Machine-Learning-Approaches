{
 "cells": [
  {
   "cell_type": "code",
   "execution_count": 1,
   "metadata": {
    "collapsed": true
   },
   "outputs": [],
   "source": [
    "import numpy as np\n",
    "import pandas as pd\n",
    "from sklearn.decomposition import PCA\n",
    "import matplotlib.pyplot as plt\n",
    "%matplotlib inline"
   ]
  },
  {
   "cell_type": "markdown",
   "metadata": {},
   "source": [
    "We do not need the following columns:\n",
    "1. Date\n",
    "2. Helpful Votes\n",
    "3. Words\n",
    "Since we cannot process dates and the other 2 since they are representing the same data as theit Z-Scores"
   ]
  },
  {
   "cell_type": "code",
   "execution_count": 2,
   "metadata": {},
   "outputs": [
    {
     "data": {
      "text/html": [
       "<div>\n",
       "<style>\n",
       "    .dataframe thead tr:only-child th {\n",
       "        text-align: right;\n",
       "    }\n",
       "\n",
       "    .dataframe thead th {\n",
       "        text-align: left;\n",
       "    }\n",
       "\n",
       "    .dataframe tbody tr th {\n",
       "        vertical-align: top;\n",
       "    }\n",
       "</style>\n",
       "<table border=\"1\" class=\"dataframe\">\n",
       "  <thead>\n",
       "    <tr style=\"text-align: right;\">\n",
       "      <th></th>\n",
       "      <th>Stars</th>\n",
       "      <th>Z_Score_HelpfulVotes</th>\n",
       "      <th>Z_Score_Words</th>\n",
       "      <th>Paragraphs</th>\n",
       "      <th>No.break tags</th>\n",
       "      <th>Percentage_Upper_Case</th>\n",
       "      <th>Percentage_Lower_Case</th>\n",
       "      <th>Avg_len_paragraph_per_review</th>\n",
       "    </tr>\n",
       "  </thead>\n",
       "  <tbody>\n",
       "    <tr>\n",
       "      <th>0</th>\n",
       "      <td>3</td>\n",
       "      <td>-0.235881</td>\n",
       "      <td>6.453577</td>\n",
       "      <td>1</td>\n",
       "      <td>0</td>\n",
       "      <td>3</td>\n",
       "      <td>93</td>\n",
       "      <td>3087.000000</td>\n",
       "    </tr>\n",
       "    <tr>\n",
       "      <th>1</th>\n",
       "      <td>5</td>\n",
       "      <td>0.915696</td>\n",
       "      <td>1.394079</td>\n",
       "      <td>3</td>\n",
       "      <td>4</td>\n",
       "      <td>3</td>\n",
       "      <td>91</td>\n",
       "      <td>300.000000</td>\n",
       "    </tr>\n",
       "    <tr>\n",
       "      <th>2</th>\n",
       "      <td>4</td>\n",
       "      <td>1.491485</td>\n",
       "      <td>3.666459</td>\n",
       "      <td>4</td>\n",
       "      <td>6</td>\n",
       "      <td>4</td>\n",
       "      <td>90</td>\n",
       "      <td>468.500000</td>\n",
       "    </tr>\n",
       "    <tr>\n",
       "      <th>3</th>\n",
       "      <td>4</td>\n",
       "      <td>5.522007</td>\n",
       "      <td>8.525083</td>\n",
       "      <td>11</td>\n",
       "      <td>20</td>\n",
       "      <td>3</td>\n",
       "      <td>91</td>\n",
       "      <td>394.272727</td>\n",
       "    </tr>\n",
       "    <tr>\n",
       "      <th>4</th>\n",
       "      <td>5</td>\n",
       "      <td>0.339908</td>\n",
       "      <td>1.795826</td>\n",
       "      <td>2</td>\n",
       "      <td>1</td>\n",
       "      <td>6</td>\n",
       "      <td>91</td>\n",
       "      <td>492.000000</td>\n",
       "    </tr>\n",
       "  </tbody>\n",
       "</table>\n",
       "</div>"
      ],
      "text/plain": [
       "   Stars  Z_Score_HelpfulVotes  Z_Score_Words  Paragraphs  No.break tags  \\\n",
       "0      3             -0.235881       6.453577           1              0   \n",
       "1      5              0.915696       1.394079           3              4   \n",
       "2      4              1.491485       3.666459           4              6   \n",
       "3      4              5.522007       8.525083          11             20   \n",
       "4      5              0.339908       1.795826           2              1   \n",
       "\n",
       "   Percentage_Upper_Case  Percentage_Lower_Case  Avg_len_paragraph_per_review  \n",
       "0                      3                     93                   3087.000000  \n",
       "1                      3                     91                    300.000000  \n",
       "2                      4                     90                    468.500000  \n",
       "3                      3                     91                    394.272727  \n",
       "4                      6                     91                    492.000000  "
      ]
     },
     "execution_count": 2,
     "metadata": {},
     "output_type": "execute_result"
    }
   ],
   "source": [
    "data = pd.read_csv(r'C:\\Users\\aksha\\PycharmProjects\\FinalProject_WorkingCopy\\FinalFeatures.csv')\n",
    "data_less_columns = data.drop(['Date','Helpful Votes','Words'],axis = 1)\n",
    "data_less_columns.head()"
   ]
  },
  {
   "cell_type": "markdown",
   "metadata": {},
   "source": [
    "We want to perform PCA on the data in order to reduce the number of dimensions it has.\n",
    "\n",
    "PCA is known to work better when the data is properly scaled. Now, since the data has a wide variety of scales, dimensionality reduction will not be accurate until the data is rescaled."
   ]
  },
  {
   "cell_type": "code",
   "execution_count": 3,
   "metadata": {},
   "outputs": [
    {
     "data": {
      "text/html": [
       "<div>\n",
       "<style>\n",
       "    .dataframe thead tr:only-child th {\n",
       "        text-align: right;\n",
       "    }\n",
       "\n",
       "    .dataframe thead th {\n",
       "        text-align: left;\n",
       "    }\n",
       "\n",
       "    .dataframe tbody tr th {\n",
       "        vertical-align: top;\n",
       "    }\n",
       "</style>\n",
       "<table border=\"1\" class=\"dataframe\">\n",
       "  <thead>\n",
       "    <tr style=\"text-align: right;\">\n",
       "      <th></th>\n",
       "      <th>Stars</th>\n",
       "      <th>Z_Score_HelpfulVotes</th>\n",
       "      <th>Z_Score_Words</th>\n",
       "      <th>Paragraphs</th>\n",
       "      <th>No.break tags</th>\n",
       "      <th>Percentage_Upper_Case</th>\n",
       "      <th>Percentage_Lower_Case</th>\n",
       "      <th>Avg_len_paragraph_per_review</th>\n",
       "    </tr>\n",
       "  </thead>\n",
       "  <tbody>\n",
       "    <tr>\n",
       "      <th>0</th>\n",
       "      <td>0.50</td>\n",
       "      <td>0.000484</td>\n",
       "      <td>0.315262</td>\n",
       "      <td>0.000000</td>\n",
       "      <td>0.000000</td>\n",
       "      <td>0.03</td>\n",
       "      <td>0.93</td>\n",
       "      <td>0.417478</td>\n",
       "    </tr>\n",
       "    <tr>\n",
       "      <th>1</th>\n",
       "      <td>1.00</td>\n",
       "      <td>0.025593</td>\n",
       "      <td>0.091377</td>\n",
       "      <td>0.015873</td>\n",
       "      <td>0.026846</td>\n",
       "      <td>0.03</td>\n",
       "      <td>0.91</td>\n",
       "      <td>0.040449</td>\n",
       "    </tr>\n",
       "    <tr>\n",
       "      <th>2</th>\n",
       "      <td>0.75</td>\n",
       "      <td>0.038147</td>\n",
       "      <td>0.191931</td>\n",
       "      <td>0.023810</td>\n",
       "      <td>0.040268</td>\n",
       "      <td>0.04</td>\n",
       "      <td>0.90</td>\n",
       "      <td>0.063244</td>\n",
       "    </tr>\n",
       "    <tr>\n",
       "      <th>3</th>\n",
       "      <td>0.75</td>\n",
       "      <td>0.126026</td>\n",
       "      <td>0.406928</td>\n",
       "      <td>0.079365</td>\n",
       "      <td>0.134228</td>\n",
       "      <td>0.03</td>\n",
       "      <td>0.91</td>\n",
       "      <td>0.053202</td>\n",
       "    </tr>\n",
       "    <tr>\n",
       "      <th>4</th>\n",
       "      <td>1.00</td>\n",
       "      <td>0.013038</td>\n",
       "      <td>0.109154</td>\n",
       "      <td>0.007937</td>\n",
       "      <td>0.006711</td>\n",
       "      <td>0.06</td>\n",
       "      <td>0.91</td>\n",
       "      <td>0.066423</td>\n",
       "    </tr>\n",
       "  </tbody>\n",
       "</table>\n",
       "</div>"
      ],
      "text/plain": [
       "   Stars  Z_Score_HelpfulVotes  Z_Score_Words  Paragraphs  No.break tags  \\\n",
       "0   0.50              0.000484       0.315262    0.000000       0.000000   \n",
       "1   1.00              0.025593       0.091377    0.015873       0.026846   \n",
       "2   0.75              0.038147       0.191931    0.023810       0.040268   \n",
       "3   0.75              0.126026       0.406928    0.079365       0.134228   \n",
       "4   1.00              0.013038       0.109154    0.007937       0.006711   \n",
       "\n",
       "   Percentage_Upper_Case  Percentage_Lower_Case  Avg_len_paragraph_per_review  \n",
       "0                   0.03                   0.93                      0.417478  \n",
       "1                   0.03                   0.91                      0.040449  \n",
       "2                   0.04                   0.90                      0.063244  \n",
       "3                   0.03                   0.91                      0.053202  \n",
       "4                   0.06                   0.91                      0.066423  "
      ]
     },
     "execution_count": 3,
     "metadata": {},
     "output_type": "execute_result"
    }
   ],
   "source": [
    "from sklearn.preprocessing import MinMaxScaler\n",
    "scaler = MinMaxScaler(feature_range = (0,1))\n",
    "\n",
    "rescaled_data = scaler.fit_transform(data_less_columns)\n",
    "rescaled_data = pd.DataFrame(rescaled_data,columns=data_less_columns.columns)\n",
    "rescaled_data.head()"
   ]
  },
  {
   "cell_type": "markdown",
   "metadata": {},
   "source": [
    "Now, we will try to perform PCA on the rescaled data"
   ]
  },
  {
   "cell_type": "code",
   "execution_count": 5,
   "metadata": {},
   "outputs": [
    {
     "name": "stdout",
     "output_type": "stream",
     "text": [
      "(30453, 6)\n"
     ]
    },
    {
     "data": {
      "text/plain": [
       "array([[-0.99923564,  0.00680071,  0.02713992,  0.00631922,  0.00865992,\n",
       "        -0.01150881,  0.00857871,  0.02059945],\n",
       "       [-0.01591249,  0.00390567, -0.04137956,  0.00138132,  0.00105279,\n",
       "         0.61199437, -0.78805948, -0.04941052],\n",
       "       [ 0.0340494 ,  0.3078668 ,  0.81821007,  0.22493907,  0.29796715,\n",
       "        -0.02985177, -0.08305264,  0.29566887],\n",
       "       [-0.00647678,  0.30525113, -0.12223013,  0.22720997,  0.26972108,\n",
       "        -0.538014  , -0.37247251, -0.58246968],\n",
       "       [-0.00747782,  0.26927012, -0.00168815,  0.21223104,  0.25557139,\n",
       "         0.57813331,  0.48260195, -0.49993331],\n",
       "       [ 0.00398709,  0.34524457, -0.55608298,  0.3753887 ,  0.33401698,\n",
       "         0.02594515,  0.01671839,  0.564026  ]])"
      ]
     },
     "execution_count": 5,
     "metadata": {},
     "output_type": "execute_result"
    }
   ],
   "source": [
    "pca_rescaled = PCA(n_components=6)\n",
    "pca_rescaled_data = pca_rescaled.fit_transform(rescaled_data)\n",
    "print(pca_rescaled_data.shape)\n",
    "pca_rescaled.components_"
   ]
  },
  {
   "cell_type": "markdown",
   "metadata": {},
   "source": [
    "Hierarchical Clustering\n",
    "\n",
    "In Hierarchical Clustering, we do not decide the number of clusters arbitrarily. Rather the ideal number of clusters id determined based on a unique graph known as dendrograms. \n",
    "\n",
    "Using the dendrogram to find the optimal number of clusters."
   ]
  },
  {
   "cell_type": "code",
   "execution_count": 7,
   "metadata": {},
   "outputs": [
    {
     "data": {
      "image/png": "[encoded data removed]",
      "text/plain": [
       "<matplotlib.figure.Figure at 0x1c9ad632240>"
      ]
     },
     "metadata": {},
     "output_type": "display_data"
    }
   ],
   "source": [
    "import scipy.cluster.hierarchy as sch\n",
    "dendrogram = sch.dendrogram(sch.linkage(pca_rescaled_data, method='ward'))\n",
    "plt.title('Dendrogram')\n",
    "plt.xlabel('IDK')\n",
    "plt.ylabel('Euclidean Distances')\n",
    "plt.show()"
   ]
  },
  {
   "cell_type": "markdown",
   "metadata": {},
   "source": [
    "Fitting Hierarchical Clustering to our dataset"
   ]
  },
  {
   "cell_type": "code",
   "execution_count": 9,
   "metadata": {
    "collapsed": true
   },
   "outputs": [],
   "source": [
    "from sklearn.cluster import AgglomerativeClustering\n",
    "hc = AgglomerativeClustering(n_clusters=4, affinity='euclidean',linkage= 'ward')\n",
    "hc_cluster_no_each_review = hc.fit_predict(rescaled_data)"
   ]
  },
  {
   "cell_type": "code",
   "execution_count": 11,
   "metadata": {},
   "outputs": [
    {
     "data": {
      "text/plain": [
       "0        0\n",
       "1        1\n",
       "2        3\n",
       "3        3\n",
       "4        1\n",
       "5        0\n",
       "6        0\n",
       "7        3\n",
       "8        0\n",
       "9        0\n",
       "10       3\n",
       "11       0\n",
       "12       3\n",
       "13       0\n",
       "14       0\n",
       "15       0\n",
       "16       3\n",
       "17       0\n",
       "18       3\n",
       "19       0\n",
       "20       1\n",
       "21       0\n",
       "22       0\n",
       "23       0\n",
       "24       0\n",
       "25       0\n",
       "26       1\n",
       "27       0\n",
       "28       0\n",
       "29       0\n",
       "        ..\n",
       "30423    3\n",
       "30424    1\n",
       "30425    1\n",
       "30426    0\n",
       "30427    0\n",
       "30428    1\n",
       "30429    1\n",
       "30430    1\n",
       "30431    1\n",
       "30432    1\n",
       "30433    1\n",
       "30434    1\n",
       "30435    1\n",
       "30436    1\n",
       "30437    1\n",
       "30438    3\n",
       "30439    1\n",
       "30440    1\n",
       "30441    1\n",
       "30442    1\n",
       "30443    1\n",
       "30444    1\n",
       "30445    1\n",
       "30446    1\n",
       "30447    1\n",
       "30448    1\n",
       "30449    3\n",
       "30450    1\n",
       "30451    1\n",
       "30452    1\n",
       "Length: 30453, dtype: int64"
      ]
     },
     "execution_count": 11,
     "metadata": {},
     "output_type": "execute_result"
    }
   ],
   "source": [
    "hc_cluster_no_each_review = pd.Series(hc_cluster_no_each_review)\n",
    "hc_cluster_no_each_review"
   ]
  },
  {
   "cell_type": "code",
   "execution_count": null,
   "metadata": {
    "collapsed": true
   },
   "outputs": [],
   "source": []
  }
 ],
 "metadata": {
  "kernelspec": {
   "display_name": "Python 3",
   "language": "python",
   "name": "python3"
  },
  "language_info": {
   "codemirror_mode": {
    "name": "ipython",
    "version": 3
   },
   "file_extension": ".py",
   "mimetype": "text/x-python",
   "name": "python",
   "nbconvert_exporter": "python",
   "pygments_lexer": "ipython3",
   "version": "3.6.3"
  }
 },
 "nbformat": 4,
 "nbformat_minor": 2
}
