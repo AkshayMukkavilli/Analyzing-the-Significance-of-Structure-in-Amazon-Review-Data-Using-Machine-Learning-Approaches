{
 "cells": [
  {
   "cell_type": "markdown",
   "metadata": {},
   "source": [
    "In order to visualise multidimensional data and to make effective use of the training models that are available to us, we have to consider reducing the number of dimensions in the training data. \n",
    "\n",
    "PCA is one of the most popular dimensionality reduction techniques present."
   ]
  },
  {
   "cell_type": "code",
   "execution_count": 2,
   "metadata": {
    "collapsed": true
   },
   "outputs": [],
   "source": [
    "from sklearn.decomposition import PCA\n",
    "pca = PCA(n_components=6)"
   ]
  },
  {
   "cell_type": "code",
   "execution_count": 7,
   "metadata": {},
   "outputs": [
    {
     "data": {
      "text/html": [
       "<div>\n",
       "<style>\n",
       "    .dataframe thead tr:only-child th {\n",
       "        text-align: right;\n",
       "    }\n",
       "\n",
       "    .dataframe thead th {\n",
       "        text-align: left;\n",
       "    }\n",
       "\n",
       "    .dataframe tbody tr th {\n",
       "        vertical-align: top;\n",
       "    }\n",
       "</style>\n",
       "<table border=\"1\" class=\"dataframe\">\n",
       "  <thead>\n",
       "    <tr style=\"text-align: right;\">\n",
       "      <th></th>\n",
       "      <th>Stars</th>\n",
       "      <th>Helpful Votes</th>\n",
       "      <th>Z_Score_HelpfulVotes</th>\n",
       "      <th>Words</th>\n",
       "      <th>Z_Score_Words</th>\n",
       "      <th>Paragraphs</th>\n",
       "      <th>No.break tags</th>\n",
       "      <th>Percentage_Upper_Case</th>\n",
       "      <th>Percentage_Lower_Case</th>\n",
       "      <th>Avg_len_paragraph_per_review</th>\n",
       "    </tr>\n",
       "  </thead>\n",
       "  <tbody>\n",
       "    <tr>\n",
       "      <th>0</th>\n",
       "      <td>3</td>\n",
       "      <td>837</td>\n",
       "      <td>-0.235881</td>\n",
       "      <td>565</td>\n",
       "      <td>6.453577</td>\n",
       "      <td>1</td>\n",
       "      <td>0</td>\n",
       "      <td>3</td>\n",
       "      <td>93</td>\n",
       "      <td>3087.000000</td>\n",
       "    </tr>\n",
       "    <tr>\n",
       "      <th>1</th>\n",
       "      <td>5</td>\n",
       "      <td>374</td>\n",
       "      <td>0.915696</td>\n",
       "      <td>162</td>\n",
       "      <td>1.394079</td>\n",
       "      <td>3</td>\n",
       "      <td>4</td>\n",
       "      <td>3</td>\n",
       "      <td>91</td>\n",
       "      <td>300.000000</td>\n",
       "    </tr>\n",
       "    <tr>\n",
       "      <th>2</th>\n",
       "      <td>4</td>\n",
       "      <td>263</td>\n",
       "      <td>1.491485</td>\n",
       "      <td>343</td>\n",
       "      <td>3.666459</td>\n",
       "      <td>4</td>\n",
       "      <td>6</td>\n",
       "      <td>4</td>\n",
       "      <td>90</td>\n",
       "      <td>468.500000</td>\n",
       "    </tr>\n",
       "    <tr>\n",
       "      <th>3</th>\n",
       "      <td>4</td>\n",
       "      <td>200</td>\n",
       "      <td>5.522007</td>\n",
       "      <td>730</td>\n",
       "      <td>8.525083</td>\n",
       "      <td>11</td>\n",
       "      <td>20</td>\n",
       "      <td>3</td>\n",
       "      <td>91</td>\n",
       "      <td>394.272727</td>\n",
       "    </tr>\n",
       "    <tr>\n",
       "      <th>4</th>\n",
       "      <td>5</td>\n",
       "      <td>247</td>\n",
       "      <td>0.339908</td>\n",
       "      <td>194</td>\n",
       "      <td>1.795826</td>\n",
       "      <td>2</td>\n",
       "      <td>1</td>\n",
       "      <td>6</td>\n",
       "      <td>91</td>\n",
       "      <td>492.000000</td>\n",
       "    </tr>\n",
       "  </tbody>\n",
       "</table>\n",
       "</div>"
      ],
      "text/plain": [
       "   Stars  Helpful Votes  Z_Score_HelpfulVotes  Words  Z_Score_Words  \\\n",
       "0      3            837             -0.235881    565       6.453577   \n",
       "1      5            374              0.915696    162       1.394079   \n",
       "2      4            263              1.491485    343       3.666459   \n",
       "3      4            200              5.522007    730       8.525083   \n",
       "4      5            247              0.339908    194       1.795826   \n",
       "\n",
       "   Paragraphs  No.break tags  Percentage_Upper_Case  Percentage_Lower_Case  \\\n",
       "0           1              0                      3                     93   \n",
       "1           3              4                      3                     91   \n",
       "2           4              6                      4                     90   \n",
       "3          11             20                      3                     91   \n",
       "4           2              1                      6                     91   \n",
       "\n",
       "   Avg_len_paragraph_per_review  \n",
       "0                   3087.000000  \n",
       "1                    300.000000  \n",
       "2                    468.500000  \n",
       "3                    394.272727  \n",
       "4                    492.000000  "
      ]
     },
     "execution_count": 7,
     "metadata": {},
     "output_type": "execute_result"
    }
   ],
   "source": [
    "import pandas as pd\n",
    "features_nodates = pd.read_csv(r'C:\\Users\\aksha\\PycharmProjects\\FinalProject_WorkingCopy\\FinalFeatures.csv')\n",
    "features_nodates=features_nodates.drop('Date',axis = 1)\n",
    "features_nodates.head()"
   ]
  },
  {
   "cell_type": "code",
   "execution_count": 9,
   "metadata": {
    "collapsed": true
   },
   "outputs": [],
   "source": [
    "X6D = pca.fit_transform(features_nodates)"
   ]
  },
  {
   "cell_type": "markdown",
   "metadata": {},
   "source": [
    "The Principal Components are stored as horizontal vectors in the variable components_ .So, .T gives it as a column."
   ]
  },
  {
   "cell_type": "code",
   "execution_count": 18,
   "metadata": {},
   "outputs": [
    {
     "data": {
      "text/plain": [
       "array([ -9.69002506e-04,   8.04830190e-03,   1.55248090e-04,\n",
       "         2.38245743e-01,   2.48005194e-03,   5.31848322e-04,\n",
       "         1.06798515e-03,  -4.53550761e-03,   6.41746627e-03,\n",
       "         9.71135366e-01])"
      ]
     },
     "execution_count": 18,
     "metadata": {},
     "output_type": "execute_result"
    }
   ],
   "source": [
    "pca.components_.T[:,0]"
   ]
  },
  {
   "cell_type": "code",
   "execution_count": 19,
   "metadata": {},
   "outputs": [
    {
     "data": {
      "text/plain": [
       "array([  8.84076791e-01,   8.67751327e-02,   2.69356418e-02,\n",
       "         1.95420428e-03,   1.55916575e-04,   7.46338916e-05])"
      ]
     },
     "execution_count": 19,
     "metadata": {},
     "output_type": "execute_result"
    }
   ],
   "source": [
    "pca.explained_variance_ratio_"
   ]
  },
  {
   "cell_type": "markdown",
   "metadata": {},
   "source": [
    "PCA is known to work better when the data is properly scaled. Now, since the data has a wide variety of scales, dimensionality reduction will not be accurate until the data is rescaled."
   ]
  },
  {
   "cell_type": "code",
   "execution_count": 21,
   "metadata": {
    "collapsed": true
   },
   "outputs": [],
   "source": [
    "from sklearn.preprocessing import MinMaxScaler\n",
    "scaler = MinMaxScaler(feature_range = (0,1))"
   ]
  },
  {
   "cell_type": "code",
   "execution_count": 35,
   "metadata": {},
   "outputs": [
    {
     "data": {
      "text/html": [
       "<div>\n",
       "<style>\n",
       "    .dataframe thead tr:only-child th {\n",
       "        text-align: right;\n",
       "    }\n",
       "\n",
       "    .dataframe thead th {\n",
       "        text-align: left;\n",
       "    }\n",
       "\n",
       "    .dataframe tbody tr th {\n",
       "        vertical-align: top;\n",
       "    }\n",
       "</style>\n",
       "<table border=\"1\" class=\"dataframe\">\n",
       "  <thead>\n",
       "    <tr style=\"text-align: right;\">\n",
       "      <th></th>\n",
       "      <th>Stars</th>\n",
       "      <th>Helpful Votes</th>\n",
       "      <th>Z_Score_HelpfulVotes</th>\n",
       "      <th>Words</th>\n",
       "      <th>Z_Score_Words</th>\n",
       "      <th>Paragraphs</th>\n",
       "      <th>No.break tags</th>\n",
       "      <th>Percentage_Upper_Case</th>\n",
       "      <th>Percentage_Lower_Case</th>\n",
       "      <th>Avg_len_paragraph_per_review</th>\n",
       "    </tr>\n",
       "  </thead>\n",
       "  <tbody>\n",
       "    <tr>\n",
       "      <th>0</th>\n",
       "      <td>0.50</td>\n",
       "      <td>0.167433</td>\n",
       "      <td>0.000484</td>\n",
       "      <td>0.211950</td>\n",
       "      <td>0.315262</td>\n",
       "      <td>0.000000</td>\n",
       "      <td>0.000000</td>\n",
       "      <td>0.03</td>\n",
       "      <td>0.93</td>\n",
       "      <td>0.417478</td>\n",
       "    </tr>\n",
       "    <tr>\n",
       "      <th>1</th>\n",
       "      <td>1.00</td>\n",
       "      <td>0.074815</td>\n",
       "      <td>0.025593</td>\n",
       "      <td>0.060504</td>\n",
       "      <td>0.091377</td>\n",
       "      <td>0.015873</td>\n",
       "      <td>0.026846</td>\n",
       "      <td>0.03</td>\n",
       "      <td>0.91</td>\n",
       "      <td>0.040449</td>\n",
       "    </tr>\n",
       "    <tr>\n",
       "      <th>2</th>\n",
       "      <td>0.75</td>\n",
       "      <td>0.052611</td>\n",
       "      <td>0.038147</td>\n",
       "      <td>0.128523</td>\n",
       "      <td>0.191931</td>\n",
       "      <td>0.023810</td>\n",
       "      <td>0.040268</td>\n",
       "      <td>0.04</td>\n",
       "      <td>0.90</td>\n",
       "      <td>0.063244</td>\n",
       "    </tr>\n",
       "    <tr>\n",
       "      <th>3</th>\n",
       "      <td>0.75</td>\n",
       "      <td>0.040008</td>\n",
       "      <td>0.126026</td>\n",
       "      <td>0.273957</td>\n",
       "      <td>0.406928</td>\n",
       "      <td>0.079365</td>\n",
       "      <td>0.134228</td>\n",
       "      <td>0.03</td>\n",
       "      <td>0.91</td>\n",
       "      <td>0.053202</td>\n",
       "    </tr>\n",
       "    <tr>\n",
       "      <th>4</th>\n",
       "      <td>1.00</td>\n",
       "      <td>0.049410</td>\n",
       "      <td>0.013038</td>\n",
       "      <td>0.072529</td>\n",
       "      <td>0.109154</td>\n",
       "      <td>0.007937</td>\n",
       "      <td>0.006711</td>\n",
       "      <td>0.06</td>\n",
       "      <td>0.91</td>\n",
       "      <td>0.066423</td>\n",
       "    </tr>\n",
       "    <tr>\n",
       "      <th>5</th>\n",
       "      <td>0.00</td>\n",
       "      <td>0.031206</td>\n",
       "      <td>0.000484</td>\n",
       "      <td>0.035701</td>\n",
       "      <td>0.054710</td>\n",
       "      <td>0.000000</td>\n",
       "      <td>0.000000</td>\n",
       "      <td>0.02</td>\n",
       "      <td>0.93</td>\n",
       "      <td>0.067911</td>\n",
       "    </tr>\n",
       "    <tr>\n",
       "      <th>6</th>\n",
       "      <td>0.00</td>\n",
       "      <td>0.026605</td>\n",
       "      <td>0.113471</td>\n",
       "      <td>0.054115</td>\n",
       "      <td>0.081932</td>\n",
       "      <td>0.071429</td>\n",
       "      <td>0.093960</td>\n",
       "      <td>0.05</td>\n",
       "      <td>0.82</td>\n",
       "      <td>0.010674</td>\n",
       "    </tr>\n",
       "    <tr>\n",
       "      <th>7</th>\n",
       "      <td>0.75</td>\n",
       "      <td>0.016803</td>\n",
       "      <td>0.013038</td>\n",
       "      <td>0.094325</td>\n",
       "      <td>0.141376</td>\n",
       "      <td>0.007937</td>\n",
       "      <td>0.013423</td>\n",
       "      <td>0.05</td>\n",
       "      <td>0.89</td>\n",
       "      <td>0.091721</td>\n",
       "    </tr>\n",
       "    <tr>\n",
       "      <th>8</th>\n",
       "      <td>0.00</td>\n",
       "      <td>0.011802</td>\n",
       "      <td>0.000484</td>\n",
       "      <td>0.031567</td>\n",
       "      <td>0.048599</td>\n",
       "      <td>0.000000</td>\n",
       "      <td>0.000000</td>\n",
       "      <td>0.06</td>\n",
       "      <td>0.90</td>\n",
       "      <td>0.069670</td>\n",
       "    </tr>\n",
       "    <tr>\n",
       "      <th>9</th>\n",
       "      <td>0.00</td>\n",
       "      <td>0.008202</td>\n",
       "      <td>0.000484</td>\n",
       "      <td>0.055242</td>\n",
       "      <td>0.083599</td>\n",
       "      <td>0.000000</td>\n",
       "      <td>0.000000</td>\n",
       "      <td>0.04</td>\n",
       "      <td>0.91</td>\n",
       "      <td>0.107143</td>\n",
       "    </tr>\n",
       "    <tr>\n",
       "      <th>10</th>\n",
       "      <td>0.75</td>\n",
       "      <td>0.030806</td>\n",
       "      <td>0.013038</td>\n",
       "      <td>0.033446</td>\n",
       "      <td>0.051377</td>\n",
       "      <td>0.007937</td>\n",
       "      <td>0.006711</td>\n",
       "      <td>0.06</td>\n",
       "      <td>0.80</td>\n",
       "      <td>0.056548</td>\n",
       "    </tr>\n",
       "    <tr>\n",
       "      <th>11</th>\n",
       "      <td>0.00</td>\n",
       "      <td>0.006001</td>\n",
       "      <td>0.000484</td>\n",
       "      <td>0.031567</td>\n",
       "      <td>0.048599</td>\n",
       "      <td>0.000000</td>\n",
       "      <td>0.000000</td>\n",
       "      <td>0.01</td>\n",
       "      <td>0.97</td>\n",
       "      <td>0.060335</td>\n",
       "    </tr>\n",
       "    <tr>\n",
       "      <th>12</th>\n",
       "      <td>0.75</td>\n",
       "      <td>0.006001</td>\n",
       "      <td>0.000484</td>\n",
       "      <td>0.032694</td>\n",
       "      <td>0.050266</td>\n",
       "      <td>0.000000</td>\n",
       "      <td>0.000000</td>\n",
       "      <td>0.05</td>\n",
       "      <td>0.90</td>\n",
       "      <td>0.061418</td>\n",
       "    </tr>\n",
       "    <tr>\n",
       "      <th>13</th>\n",
       "      <td>0.25</td>\n",
       "      <td>0.005201</td>\n",
       "      <td>0.063255</td>\n",
       "      <td>0.110109</td>\n",
       "      <td>0.164709</td>\n",
       "      <td>0.039683</td>\n",
       "      <td>0.067114</td>\n",
       "      <td>0.04</td>\n",
       "      <td>0.88</td>\n",
       "      <td>0.036842</td>\n",
       "    </tr>\n",
       "    <tr>\n",
       "      <th>14</th>\n",
       "      <td>0.00</td>\n",
       "      <td>0.005201</td>\n",
       "      <td>0.013038</td>\n",
       "      <td>0.084930</td>\n",
       "      <td>0.127487</td>\n",
       "      <td>0.007937</td>\n",
       "      <td>0.013423</td>\n",
       "      <td>0.06</td>\n",
       "      <td>0.89</td>\n",
       "      <td>0.081439</td>\n",
       "    </tr>\n",
       "    <tr>\n",
       "      <th>15</th>\n",
       "      <td>0.50</td>\n",
       "      <td>0.004601</td>\n",
       "      <td>0.063255</td>\n",
       "      <td>0.190530</td>\n",
       "      <td>0.283596</td>\n",
       "      <td>0.039683</td>\n",
       "      <td>0.067114</td>\n",
       "      <td>0.03</td>\n",
       "      <td>0.91</td>\n",
       "      <td>0.061080</td>\n",
       "    </tr>\n",
       "    <tr>\n",
       "      <th>16</th>\n",
       "      <td>0.50</td>\n",
       "      <td>0.004601</td>\n",
       "      <td>0.151134</td>\n",
       "      <td>0.206689</td>\n",
       "      <td>0.307485</td>\n",
       "      <td>0.095238</td>\n",
       "      <td>0.161074</td>\n",
       "      <td>0.03</td>\n",
       "      <td>0.89</td>\n",
       "      <td>0.030334</td>\n",
       "    </tr>\n",
       "    <tr>\n",
       "      <th>17</th>\n",
       "      <td>0.00</td>\n",
       "      <td>0.005401</td>\n",
       "      <td>0.000484</td>\n",
       "      <td>0.014656</td>\n",
       "      <td>0.023600</td>\n",
       "      <td>0.000000</td>\n",
       "      <td>0.000000</td>\n",
       "      <td>0.02</td>\n",
       "      <td>0.92</td>\n",
       "      <td>0.029762</td>\n",
       "    </tr>\n",
       "    <tr>\n",
       "      <th>18</th>\n",
       "      <td>0.75</td>\n",
       "      <td>0.006401</td>\n",
       "      <td>0.088363</td>\n",
       "      <td>0.187899</td>\n",
       "      <td>0.279707</td>\n",
       "      <td>0.055556</td>\n",
       "      <td>0.093960</td>\n",
       "      <td>0.03</td>\n",
       "      <td>0.92</td>\n",
       "      <td>0.047467</td>\n",
       "    </tr>\n",
       "    <tr>\n",
       "      <th>19</th>\n",
       "      <td>0.00</td>\n",
       "      <td>0.004401</td>\n",
       "      <td>0.038147</td>\n",
       "      <td>0.051860</td>\n",
       "      <td>0.078599</td>\n",
       "      <td>0.023810</td>\n",
       "      <td>0.033557</td>\n",
       "      <td>0.03</td>\n",
       "      <td>0.89</td>\n",
       "      <td>0.025129</td>\n",
       "    </tr>\n",
       "  </tbody>\n",
       "</table>\n",
       "</div>"
      ],
      "text/plain": [
       "    Stars  Helpful Votes  Z_Score_HelpfulVotes     Words  Z_Score_Words  \\\n",
       "0    0.50       0.167433              0.000484  0.211950       0.315262   \n",
       "1    1.00       0.074815              0.025593  0.060504       0.091377   \n",
       "2    0.75       0.052611              0.038147  0.128523       0.191931   \n",
       "3    0.75       0.040008              0.126026  0.273957       0.406928   \n",
       "4    1.00       0.049410              0.013038  0.072529       0.109154   \n",
       "5    0.00       0.031206              0.000484  0.035701       0.054710   \n",
       "6    0.00       0.026605              0.113471  0.054115       0.081932   \n",
       "7    0.75       0.016803              0.013038  0.094325       0.141376   \n",
       "8    0.00       0.011802              0.000484  0.031567       0.048599   \n",
       "9    0.00       0.008202              0.000484  0.055242       0.083599   \n",
       "10   0.75       0.030806              0.013038  0.033446       0.051377   \n",
       "11   0.00       0.006001              0.000484  0.031567       0.048599   \n",
       "12   0.75       0.006001              0.000484  0.032694       0.050266   \n",
       "13   0.25       0.005201              0.063255  0.110109       0.164709   \n",
       "14   0.00       0.005201              0.013038  0.084930       0.127487   \n",
       "15   0.50       0.004601              0.063255  0.190530       0.283596   \n",
       "16   0.50       0.004601              0.151134  0.206689       0.307485   \n",
       "17   0.00       0.005401              0.000484  0.014656       0.023600   \n",
       "18   0.75       0.006401              0.088363  0.187899       0.279707   \n",
       "19   0.00       0.004401              0.038147  0.051860       0.078599   \n",
       "\n",
       "    Paragraphs  No.break tags  Percentage_Upper_Case  Percentage_Lower_Case  \\\n",
       "0     0.000000       0.000000                   0.03                   0.93   \n",
       "1     0.015873       0.026846                   0.03                   0.91   \n",
       "2     0.023810       0.040268                   0.04                   0.90   \n",
       "3     0.079365       0.134228                   0.03                   0.91   \n",
       "4     0.007937       0.006711                   0.06                   0.91   \n",
       "5     0.000000       0.000000                   0.02                   0.93   \n",
       "6     0.071429       0.093960                   0.05                   0.82   \n",
       "7     0.007937       0.013423                   0.05                   0.89   \n",
       "8     0.000000       0.000000                   0.06                   0.90   \n",
       "9     0.000000       0.000000                   0.04                   0.91   \n",
       "10    0.007937       0.006711                   0.06                   0.80   \n",
       "11    0.000000       0.000000                   0.01                   0.97   \n",
       "12    0.000000       0.000000                   0.05                   0.90   \n",
       "13    0.039683       0.067114                   0.04                   0.88   \n",
       "14    0.007937       0.013423                   0.06                   0.89   \n",
       "15    0.039683       0.067114                   0.03                   0.91   \n",
       "16    0.095238       0.161074                   0.03                   0.89   \n",
       "17    0.000000       0.000000                   0.02                   0.92   \n",
       "18    0.055556       0.093960                   0.03                   0.92   \n",
       "19    0.023810       0.033557                   0.03                   0.89   \n",
       "\n",
       "    Avg_len_paragraph_per_review  \n",
       "0                       0.417478  \n",
       "1                       0.040449  \n",
       "2                       0.063244  \n",
       "3                       0.053202  \n",
       "4                       0.066423  \n",
       "5                       0.067911  \n",
       "6                       0.010674  \n",
       "7                       0.091721  \n",
       "8                       0.069670  \n",
       "9                       0.107143  \n",
       "10                      0.056548  \n",
       "11                      0.060335  \n",
       "12                      0.061418  \n",
       "13                      0.036842  \n",
       "14                      0.081439  \n",
       "15                      0.061080  \n",
       "16                      0.030334  \n",
       "17                      0.029762  \n",
       "18                      0.047467  \n",
       "19                      0.025129  "
      ]
     },
     "execution_count": 35,
     "metadata": {},
     "output_type": "execute_result"
    }
   ],
   "source": [
    "rescaled_data = scaler.fit_transform(features_nodates)\n",
    "rescaled_data = pd.DataFrame(rescaled_data,columns=features_nodates.columns)\n",
    "rescaled_data.head(20)"
   ]
  },
  {
   "cell_type": "markdown",
   "metadata": {},
   "source": [
    "Now, we will try to perform PCA on the rescaled data"
   ]
  },
  {
   "cell_type": "code",
   "execution_count": 37,
   "metadata": {},
   "outputs": [
    {
     "data": {
      "text/plain": [
       "array([[ -9.98914468e-01,   9.18359098e-04,   6.92207736e-03,\n",
       "          2.45929589e-02,   2.75249315e-02,   6.42187397e-03,\n",
       "          8.80058644e-03,  -1.15850264e-02,   8.65435703e-03,\n",
       "          2.07578710e-02],\n",
       "       [ -1.70825185e-02,  -3.04128968e-04,   2.43514771e-03,\n",
       "         -3.47601712e-02,  -4.58203379e-02,   1.74204724e-04,\n",
       "         -5.90173056e-04,   6.11597433e-01,  -7.87225860e-01,\n",
       "         -5.11667842e-02],\n",
       "       [  4.20506102e-02,   2.47849932e-02,   2.49723097e-01,\n",
       "          5.23238729e-01,   6.96852292e-01,   1.89472963e-01,\n",
       "          2.53469360e-01,   3.13381272e-04,  -8.08154851e-02,\n",
       "          2.63051287e-01],\n",
       "       [ -5.81981015e-03,   1.15017960e-02,   3.26525531e-01,\n",
       "         -6.60139976e-02,  -6.78544349e-02,   2.39581418e-01,\n",
       "          2.85502084e-01,  -5.38863098e-01,  -3.74338907e-01,\n",
       "         -5.61105242e-01],\n",
       "       [ -7.49119991e-03,   1.70973540e-02,   2.68610551e-01,\n",
       "          9.90658321e-04,  -2.85332016e-03,   2.11675276e-01,\n",
       "          2.54918673e-01,   5.78245348e-01,   4.82723340e-01,\n",
       "         -5.00311257e-01],\n",
       "       [  4.10523163e-03,  -5.64865764e-02,   3.06969032e-01,\n",
       "          8.90586928e-02,  -5.98083296e-01,   3.70473493e-01,\n",
       "          3.35017327e-01,   2.34405825e-02,   1.50032934e-02,\n",
       "          5.35411590e-01]])"
      ]
     },
     "execution_count": 37,
     "metadata": {},
     "output_type": "execute_result"
    }
   ],
   "source": [
    "rescaled_X6D = pca.fit_transform(rescaled_data)\n",
    "pca.components_"
   ]
  },
  {
   "cell_type": "code",
   "execution_count": 38,
   "metadata": {},
   "outputs": [
    {
     "data": {
      "text/plain": [
       "array([ 0.81864399,  0.12241756,  0.0352815 ,  0.01069277,  0.00833201,\n",
       "        0.00227173])"
      ]
     },
     "execution_count": 38,
     "metadata": {},
     "output_type": "execute_result"
    }
   ],
   "source": [
    "pca.explained_variance_ratio_"
   ]
  },
  {
   "cell_type": "markdown",
   "metadata": {},
   "source": [
    "The explained_variance_ratio of rescaled data makes more sense when compared to the explained_variance_ratio of the original data"
   ]
  },
  {
   "cell_type": "markdown",
   "metadata": {},
   "source": [
    "Now, since the number of dimensions have been reduced to 6, we can get better results from K-means clustering"
   ]
  },
  {
   "cell_type": "code",
   "execution_count": 40,
   "metadata": {},
   "outputs": [
    {
     "data": {
      "text/plain": [
       "array([[ 0.74603576,  0.67101102,  0.56417889],\n",
       "       [ 0.11756119,  0.92645522,  0.32840357],\n",
       "       [ 0.33252779,  0.69720134,  0.20595529],\n",
       "       ..., \n",
       "       [ 0.14203925,  0.92867177,  0.33485771],\n",
       "       [ 0.03725677,  0.92415857,  0.31795596],\n",
       "       [ 0.02809548,  0.92365275,  0.31680813]])"
      ]
     },
     "execution_count": 40,
     "metadata": {},
     "output_type": "execute_result"
    }
   ],
   "source": [
    "from sklearn.cluster import KMeans\n",
    "kmeans = KMeans(n_clusters = 3)\n",
    "kmeans.fit_transform(rescaled_data)"
   ]
  },
  {
   "cell_type": "code",
   "execution_count": 43,
   "metadata": {},
   "outputs": [
    {
     "data": {
      "text/plain": [
       "array([[ 0.59947296,  0.71811575],\n",
       "       [ 0.79671068,  0.12108058],\n",
       "       [ 0.57277546,  0.30195434],\n",
       "       ..., \n",
       "       [ 0.79931066,  0.14385736],\n",
       "       [ 0.79385224,  0.05504779],\n",
       "       [ 0.79329311,  0.049134  ]])"
      ]
     },
     "execution_count": 43,
     "metadata": {},
     "output_type": "execute_result"
    }
   ],
   "source": [
    "kmeans_1 = KMeans(n_clusters = 2)\n",
    "kmeans_1_result=kmeans_1.fit_transform(rescaled_data)\n",
    "kmeans_1_result"
   ]
  },
  {
   "cell_type": "code",
   "execution_count": 46,
   "metadata": {
    "collapsed": true
   },
   "outputs": [],
   "source": [
    "import matplotlib.pyplot as plt"
   ]
  },
  {
   "cell_type": "code",
   "execution_count": 52,
   "metadata": {},
   "outputs": [
    {
     "data": {
      "image/png": "[encoded data removed]",
      "text/plain": [
       "<matplotlib.figure.Figure at 0x16f6e087080>"
      ]
     },
     "metadata": {},
     "output_type": "display_data"
    }
   ],
   "source": [
    "plt.scatter(kmeans_1_result[:,0],kmeans_1_result[:,1],c=kmeans_1.labels_, cmap='rainbow')\n",
    "plt.show()"
   ]
  },
  {
   "cell_type": "code",
   "execution_count": 55,
   "metadata": {},
   "outputs": [
    {
     "data": {
      "image/png": "[encoded data removed]",
      "text/plain": [
       "<matplotlib.figure.Figure at 0x16f6cbcadd8>"
      ]
     },
     "metadata": {},
     "output_type": "display_data"
    }
   ],
   "source": [
    "plt.scatter(kmeans_1.cluster_centers_[:,0],kmeans_1.cluster_centers_[:,1],color='black')\n",
    "plt.show()"
   ]
  },
  {
   "cell_type": "code",
   "execution_count": 56,
   "metadata": {
    "collapsed": true
   },
   "outputs": [],
   "source": [
    "import numpy as np"
   ]
  },
  {
   "cell_type": "code",
   "execution_count": 57,
   "metadata": {
    "collapsed": true
   },
   "outputs": [],
   "source": [
    "np.argmax?"
   ]
  },
  {
   "cell_type": "code",
   "execution_count": null,
   "metadata": {
    "collapsed": true
   },
   "outputs": [],
   "source": []
  }
 ],
 "metadata": {
  "kernelspec": {
   "display_name": "Python 3",
   "language": "python",
   "name": "python3"
  },
  "language_info": {
   "codemirror_mode": {
    "name": "ipython",
    "version": 3
   },
   "file_extension": ".py",
   "mimetype": "text/x-python",
   "name": "python",
   "nbconvert_exporter": "python",
   "pygments_lexer": "ipython3",
   "version": "3.6.3"
  }
 },
 "nbformat": 4,
 "nbformat_minor": 2
}
