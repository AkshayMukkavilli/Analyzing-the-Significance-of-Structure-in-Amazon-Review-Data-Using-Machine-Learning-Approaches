{
 "cells": [
  {
   "cell_type": "markdown",
   "metadata": {},
   "source": [
    "In order to visualise multidimensional data and to make effective use of the training models that are available to us, we have to consider reducing the number of dimensions in the training data. \n",
    "\n",
    "PCA is one of the most popular dimensionality reduction techniques present."
   ]
  },
  {
   "cell_type": "code",
   "execution_count": 68,
   "metadata": {
    "collapsed": true
   },
   "outputs": [],
   "source": [
    "from sklearn.decomposition import PCA\n",
    "from sklearn.cluster import KMeans\n",
    "pca = PCA(n_components=6)"
   ]
  },
  {
   "cell_type": "markdown",
   "metadata": {},
   "source": [
    "Dropping three columns since they would be representing the same data twice"
   ]
  },
  {
   "cell_type": "code",
   "execution_count": 69,
   "metadata": {},
   "outputs": [
    {
     "data": {
      "text/html": [
       "<div>\n",
       "<style>\n",
       "    .dataframe thead tr:only-child th {\n",
       "        text-align: right;\n",
       "    }\n",
       "\n",
       "    .dataframe thead th {\n",
       "        text-align: left;\n",
       "    }\n",
       "\n",
       "    .dataframe tbody tr th {\n",
       "        vertical-align: top;\n",
       "    }\n",
       "</style>\n",
       "<table border=\"1\" class=\"dataframe\">\n",
       "  <thead>\n",
       "    <tr style=\"text-align: right;\">\n",
       "      <th></th>\n",
       "      <th>Stars</th>\n",
       "      <th>Z_Score_HelpfulVotes</th>\n",
       "      <th>Z_Score_Words</th>\n",
       "      <th>Paragraphs</th>\n",
       "      <th>No.break tags</th>\n",
       "      <th>Percentage_Upper_Case</th>\n",
       "      <th>Percentage_Lower_Case</th>\n",
       "      <th>Avg_len_paragraph_per_review</th>\n",
       "    </tr>\n",
       "  </thead>\n",
       "  <tbody>\n",
       "    <tr>\n",
       "      <th>0</th>\n",
       "      <td>3</td>\n",
       "      <td>-0.235881</td>\n",
       "      <td>6.453577</td>\n",
       "      <td>1</td>\n",
       "      <td>0</td>\n",
       "      <td>3</td>\n",
       "      <td>93</td>\n",
       "      <td>3087.000000</td>\n",
       "    </tr>\n",
       "    <tr>\n",
       "      <th>1</th>\n",
       "      <td>5</td>\n",
       "      <td>0.915696</td>\n",
       "      <td>1.394079</td>\n",
       "      <td>3</td>\n",
       "      <td>4</td>\n",
       "      <td>3</td>\n",
       "      <td>91</td>\n",
       "      <td>300.000000</td>\n",
       "    </tr>\n",
       "    <tr>\n",
       "      <th>2</th>\n",
       "      <td>4</td>\n",
       "      <td>1.491485</td>\n",
       "      <td>3.666459</td>\n",
       "      <td>4</td>\n",
       "      <td>6</td>\n",
       "      <td>4</td>\n",
       "      <td>90</td>\n",
       "      <td>468.500000</td>\n",
       "    </tr>\n",
       "    <tr>\n",
       "      <th>3</th>\n",
       "      <td>4</td>\n",
       "      <td>5.522007</td>\n",
       "      <td>8.525083</td>\n",
       "      <td>11</td>\n",
       "      <td>20</td>\n",
       "      <td>3</td>\n",
       "      <td>91</td>\n",
       "      <td>394.272727</td>\n",
       "    </tr>\n",
       "    <tr>\n",
       "      <th>4</th>\n",
       "      <td>5</td>\n",
       "      <td>0.339908</td>\n",
       "      <td>1.795826</td>\n",
       "      <td>2</td>\n",
       "      <td>1</td>\n",
       "      <td>6</td>\n",
       "      <td>91</td>\n",
       "      <td>492.000000</td>\n",
       "    </tr>\n",
       "  </tbody>\n",
       "</table>\n",
       "</div>"
      ],
      "text/plain": [
       "   Stars  Z_Score_HelpfulVotes  Z_Score_Words  Paragraphs  No.break tags  \\\n",
       "0      3             -0.235881       6.453577           1              0   \n",
       "1      5              0.915696       1.394079           3              4   \n",
       "2      4              1.491485       3.666459           4              6   \n",
       "3      4              5.522007       8.525083          11             20   \n",
       "4      5              0.339908       1.795826           2              1   \n",
       "\n",
       "   Percentage_Upper_Case  Percentage_Lower_Case  Avg_len_paragraph_per_review  \n",
       "0                      3                     93                   3087.000000  \n",
       "1                      3                     91                    300.000000  \n",
       "2                      4                     90                    468.500000  \n",
       "3                      3                     91                    394.272727  \n",
       "4                      6                     91                    492.000000  "
      ]
     },
     "execution_count": 69,
     "metadata": {},
     "output_type": "execute_result"
    }
   ],
   "source": [
    "import pandas as pd\n",
    "features_nodates = pd.read_csv(r'C:\\Users\\aksha\\PycharmProjects\\FinalProject_WorkingCopy\\FinalFeatures.csv')\n",
    "features_nodates=features_nodates.drop(['Date','Helpful Votes','Words'],axis = 1)\n",
    "features_nodates.head()"
   ]
  },
  {
   "cell_type": "code",
   "execution_count": 70,
   "metadata": {},
   "outputs": [
    {
     "name": "stdout",
     "output_type": "stream",
     "text": [
      "[ -9.52731094e-04  -7.29627620e-05   2.30894137e-03   1.12903515e-05\n",
      "   2.41271873e-04  -4.60652086e-03   6.67242861e-03   9.99963977e-01]\n",
      "[  9.97174088e-01   2.32347793e-03   2.91296032e-04   1.74662935e-04\n",
      "   2.43301046e-05   6.88465967e-06]\n"
     ]
    }
   ],
   "source": [
    "X6D = pca.fit_transform(features_nodates)\n",
    "print(pca.components_.T[:,0])\n",
    "print(pca.explained_variance_ratio_)"
   ]
  },
  {
   "cell_type": "markdown",
   "metadata": {},
   "source": [
    "The Principal Components are stored as horizontal vectors in the variable components_ .So, .T(above cell) gives it as a column."
   ]
  },
  {
   "cell_type": "markdown",
   "metadata": {},
   "source": [
    "PCA is known to work better when the data is properly scaled. Now, since the data has a wide variety of scales, dimensionality reduction will not be accurate until the data is rescaled."
   ]
  },
  {
   "cell_type": "code",
   "execution_count": 71,
   "metadata": {
    "collapsed": true
   },
   "outputs": [],
   "source": [
    "from sklearn.preprocessing import MinMaxScaler\n",
    "scaler = MinMaxScaler(feature_range = (0,1))"
   ]
  },
  {
   "cell_type": "code",
   "execution_count": 72,
   "metadata": {},
   "outputs": [
    {
     "data": {
      "text/html": [
       "<div>\n",
       "<style>\n",
       "    .dataframe thead tr:only-child th {\n",
       "        text-align: right;\n",
       "    }\n",
       "\n",
       "    .dataframe thead th {\n",
       "        text-align: left;\n",
       "    }\n",
       "\n",
       "    .dataframe tbody tr th {\n",
       "        vertical-align: top;\n",
       "    }\n",
       "</style>\n",
       "<table border=\"1\" class=\"dataframe\">\n",
       "  <thead>\n",
       "    <tr style=\"text-align: right;\">\n",
       "      <th></th>\n",
       "      <th>Stars</th>\n",
       "      <th>Z_Score_HelpfulVotes</th>\n",
       "      <th>Z_Score_Words</th>\n",
       "      <th>Paragraphs</th>\n",
       "      <th>No.break tags</th>\n",
       "      <th>Percentage_Upper_Case</th>\n",
       "      <th>Percentage_Lower_Case</th>\n",
       "      <th>Avg_len_paragraph_per_review</th>\n",
       "    </tr>\n",
       "  </thead>\n",
       "  <tbody>\n",
       "    <tr>\n",
       "      <th>0</th>\n",
       "      <td>0.50</td>\n",
       "      <td>0.000484</td>\n",
       "      <td>0.315262</td>\n",
       "      <td>0.000000</td>\n",
       "      <td>0.000000</td>\n",
       "      <td>0.03</td>\n",
       "      <td>0.93</td>\n",
       "      <td>0.417478</td>\n",
       "    </tr>\n",
       "    <tr>\n",
       "      <th>1</th>\n",
       "      <td>1.00</td>\n",
       "      <td>0.025593</td>\n",
       "      <td>0.091377</td>\n",
       "      <td>0.015873</td>\n",
       "      <td>0.026846</td>\n",
       "      <td>0.03</td>\n",
       "      <td>0.91</td>\n",
       "      <td>0.040449</td>\n",
       "    </tr>\n",
       "    <tr>\n",
       "      <th>2</th>\n",
       "      <td>0.75</td>\n",
       "      <td>0.038147</td>\n",
       "      <td>0.191931</td>\n",
       "      <td>0.023810</td>\n",
       "      <td>0.040268</td>\n",
       "      <td>0.04</td>\n",
       "      <td>0.90</td>\n",
       "      <td>0.063244</td>\n",
       "    </tr>\n",
       "    <tr>\n",
       "      <th>3</th>\n",
       "      <td>0.75</td>\n",
       "      <td>0.126026</td>\n",
       "      <td>0.406928</td>\n",
       "      <td>0.079365</td>\n",
       "      <td>0.134228</td>\n",
       "      <td>0.03</td>\n",
       "      <td>0.91</td>\n",
       "      <td>0.053202</td>\n",
       "    </tr>\n",
       "    <tr>\n",
       "      <th>4</th>\n",
       "      <td>1.00</td>\n",
       "      <td>0.013038</td>\n",
       "      <td>0.109154</td>\n",
       "      <td>0.007937</td>\n",
       "      <td>0.006711</td>\n",
       "      <td>0.06</td>\n",
       "      <td>0.91</td>\n",
       "      <td>0.066423</td>\n",
       "    </tr>\n",
       "    <tr>\n",
       "      <th>5</th>\n",
       "      <td>0.00</td>\n",
       "      <td>0.000484</td>\n",
       "      <td>0.054710</td>\n",
       "      <td>0.000000</td>\n",
       "      <td>0.000000</td>\n",
       "      <td>0.02</td>\n",
       "      <td>0.93</td>\n",
       "      <td>0.067911</td>\n",
       "    </tr>\n",
       "    <tr>\n",
       "      <th>6</th>\n",
       "      <td>0.00</td>\n",
       "      <td>0.113471</td>\n",
       "      <td>0.081932</td>\n",
       "      <td>0.071429</td>\n",
       "      <td>0.093960</td>\n",
       "      <td>0.05</td>\n",
       "      <td>0.82</td>\n",
       "      <td>0.010674</td>\n",
       "    </tr>\n",
       "    <tr>\n",
       "      <th>7</th>\n",
       "      <td>0.75</td>\n",
       "      <td>0.013038</td>\n",
       "      <td>0.141376</td>\n",
       "      <td>0.007937</td>\n",
       "      <td>0.013423</td>\n",
       "      <td>0.05</td>\n",
       "      <td>0.89</td>\n",
       "      <td>0.091721</td>\n",
       "    </tr>\n",
       "    <tr>\n",
       "      <th>8</th>\n",
       "      <td>0.00</td>\n",
       "      <td>0.000484</td>\n",
       "      <td>0.048599</td>\n",
       "      <td>0.000000</td>\n",
       "      <td>0.000000</td>\n",
       "      <td>0.06</td>\n",
       "      <td>0.90</td>\n",
       "      <td>0.069670</td>\n",
       "    </tr>\n",
       "    <tr>\n",
       "      <th>9</th>\n",
       "      <td>0.00</td>\n",
       "      <td>0.000484</td>\n",
       "      <td>0.083599</td>\n",
       "      <td>0.000000</td>\n",
       "      <td>0.000000</td>\n",
       "      <td>0.04</td>\n",
       "      <td>0.91</td>\n",
       "      <td>0.107143</td>\n",
       "    </tr>\n",
       "    <tr>\n",
       "      <th>10</th>\n",
       "      <td>0.75</td>\n",
       "      <td>0.013038</td>\n",
       "      <td>0.051377</td>\n",
       "      <td>0.007937</td>\n",
       "      <td>0.006711</td>\n",
       "      <td>0.06</td>\n",
       "      <td>0.80</td>\n",
       "      <td>0.056548</td>\n",
       "    </tr>\n",
       "    <tr>\n",
       "      <th>11</th>\n",
       "      <td>0.00</td>\n",
       "      <td>0.000484</td>\n",
       "      <td>0.048599</td>\n",
       "      <td>0.000000</td>\n",
       "      <td>0.000000</td>\n",
       "      <td>0.01</td>\n",
       "      <td>0.97</td>\n",
       "      <td>0.060335</td>\n",
       "    </tr>\n",
       "    <tr>\n",
       "      <th>12</th>\n",
       "      <td>0.75</td>\n",
       "      <td>0.000484</td>\n",
       "      <td>0.050266</td>\n",
       "      <td>0.000000</td>\n",
       "      <td>0.000000</td>\n",
       "      <td>0.05</td>\n",
       "      <td>0.90</td>\n",
       "      <td>0.061418</td>\n",
       "    </tr>\n",
       "    <tr>\n",
       "      <th>13</th>\n",
       "      <td>0.25</td>\n",
       "      <td>0.063255</td>\n",
       "      <td>0.164709</td>\n",
       "      <td>0.039683</td>\n",
       "      <td>0.067114</td>\n",
       "      <td>0.04</td>\n",
       "      <td>0.88</td>\n",
       "      <td>0.036842</td>\n",
       "    </tr>\n",
       "    <tr>\n",
       "      <th>14</th>\n",
       "      <td>0.00</td>\n",
       "      <td>0.013038</td>\n",
       "      <td>0.127487</td>\n",
       "      <td>0.007937</td>\n",
       "      <td>0.013423</td>\n",
       "      <td>0.06</td>\n",
       "      <td>0.89</td>\n",
       "      <td>0.081439</td>\n",
       "    </tr>\n",
       "    <tr>\n",
       "      <th>15</th>\n",
       "      <td>0.50</td>\n",
       "      <td>0.063255</td>\n",
       "      <td>0.283596</td>\n",
       "      <td>0.039683</td>\n",
       "      <td>0.067114</td>\n",
       "      <td>0.03</td>\n",
       "      <td>0.91</td>\n",
       "      <td>0.061080</td>\n",
       "    </tr>\n",
       "    <tr>\n",
       "      <th>16</th>\n",
       "      <td>0.50</td>\n",
       "      <td>0.151134</td>\n",
       "      <td>0.307485</td>\n",
       "      <td>0.095238</td>\n",
       "      <td>0.161074</td>\n",
       "      <td>0.03</td>\n",
       "      <td>0.89</td>\n",
       "      <td>0.030334</td>\n",
       "    </tr>\n",
       "    <tr>\n",
       "      <th>17</th>\n",
       "      <td>0.00</td>\n",
       "      <td>0.000484</td>\n",
       "      <td>0.023600</td>\n",
       "      <td>0.000000</td>\n",
       "      <td>0.000000</td>\n",
       "      <td>0.02</td>\n",
       "      <td>0.92</td>\n",
       "      <td>0.029762</td>\n",
       "    </tr>\n",
       "    <tr>\n",
       "      <th>18</th>\n",
       "      <td>0.75</td>\n",
       "      <td>0.088363</td>\n",
       "      <td>0.279707</td>\n",
       "      <td>0.055556</td>\n",
       "      <td>0.093960</td>\n",
       "      <td>0.03</td>\n",
       "      <td>0.92</td>\n",
       "      <td>0.047467</td>\n",
       "    </tr>\n",
       "    <tr>\n",
       "      <th>19</th>\n",
       "      <td>0.00</td>\n",
       "      <td>0.038147</td>\n",
       "      <td>0.078599</td>\n",
       "      <td>0.023810</td>\n",
       "      <td>0.033557</td>\n",
       "      <td>0.03</td>\n",
       "      <td>0.89</td>\n",
       "      <td>0.025129</td>\n",
       "    </tr>\n",
       "  </tbody>\n",
       "</table>\n",
       "</div>"
      ],
      "text/plain": [
       "    Stars  Z_Score_HelpfulVotes  Z_Score_Words  Paragraphs  No.break tags  \\\n",
       "0    0.50              0.000484       0.315262    0.000000       0.000000   \n",
       "1    1.00              0.025593       0.091377    0.015873       0.026846   \n",
       "2    0.75              0.038147       0.191931    0.023810       0.040268   \n",
       "3    0.75              0.126026       0.406928    0.079365       0.134228   \n",
       "4    1.00              0.013038       0.109154    0.007937       0.006711   \n",
       "5    0.00              0.000484       0.054710    0.000000       0.000000   \n",
       "6    0.00              0.113471       0.081932    0.071429       0.093960   \n",
       "7    0.75              0.013038       0.141376    0.007937       0.013423   \n",
       "8    0.00              0.000484       0.048599    0.000000       0.000000   \n",
       "9    0.00              0.000484       0.083599    0.000000       0.000000   \n",
       "10   0.75              0.013038       0.051377    0.007937       0.006711   \n",
       "11   0.00              0.000484       0.048599    0.000000       0.000000   \n",
       "12   0.75              0.000484       0.050266    0.000000       0.000000   \n",
       "13   0.25              0.063255       0.164709    0.039683       0.067114   \n",
       "14   0.00              0.013038       0.127487    0.007937       0.013423   \n",
       "15   0.50              0.063255       0.283596    0.039683       0.067114   \n",
       "16   0.50              0.151134       0.307485    0.095238       0.161074   \n",
       "17   0.00              0.000484       0.023600    0.000000       0.000000   \n",
       "18   0.75              0.088363       0.279707    0.055556       0.093960   \n",
       "19   0.00              0.038147       0.078599    0.023810       0.033557   \n",
       "\n",
       "    Percentage_Upper_Case  Percentage_Lower_Case  Avg_len_paragraph_per_review  \n",
       "0                    0.03                   0.93                      0.417478  \n",
       "1                    0.03                   0.91                      0.040449  \n",
       "2                    0.04                   0.90                      0.063244  \n",
       "3                    0.03                   0.91                      0.053202  \n",
       "4                    0.06                   0.91                      0.066423  \n",
       "5                    0.02                   0.93                      0.067911  \n",
       "6                    0.05                   0.82                      0.010674  \n",
       "7                    0.05                   0.89                      0.091721  \n",
       "8                    0.06                   0.90                      0.069670  \n",
       "9                    0.04                   0.91                      0.107143  \n",
       "10                   0.06                   0.80                      0.056548  \n",
       "11                   0.01                   0.97                      0.060335  \n",
       "12                   0.05                   0.90                      0.061418  \n",
       "13                   0.04                   0.88                      0.036842  \n",
       "14                   0.06                   0.89                      0.081439  \n",
       "15                   0.03                   0.91                      0.061080  \n",
       "16                   0.03                   0.89                      0.030334  \n",
       "17                   0.02                   0.92                      0.029762  \n",
       "18                   0.03                   0.92                      0.047467  \n",
       "19                   0.03                   0.89                      0.025129  "
      ]
     },
     "execution_count": 72,
     "metadata": {},
     "output_type": "execute_result"
    }
   ],
   "source": [
    "rescaled_data = scaler.fit_transform(features_nodates)\n",
    "rescaled_data = pd.DataFrame(rescaled_data,columns=features_nodates.columns)\n",
    "rescaled_data.head(20)"
   ]
  },
  {
   "cell_type": "markdown",
   "metadata": {},
   "source": [
    "Now, we will try to perform PCA on the rescaled data and then perform KMeans clustering with k =2"
   ]
  },
  {
   "cell_type": "code",
   "execution_count": 73,
   "metadata": {},
   "outputs": [
    {
     "name": "stdout",
     "output_type": "stream",
     "text": [
      "kmeans_on_pca_result [[ 0.54801474  0.67085435]\n",
      " [ 0.792853    0.0852708 ]\n",
      " [ 0.56273752  0.27603592]\n",
      " ..., \n",
      " [ 0.79927509  0.14201494]\n",
      " [ 0.79313514  0.05253293]\n",
      " [ 0.79265317  0.04692335]]\n"
     ]
    },
    {
     "data": {
      "image/png": "[encoded data removed]",
      "text/plain": [
       "<matplotlib.figure.Figure at 0x1edb123f908>"
      ]
     },
     "metadata": {},
     "output_type": "display_data"
    }
   ],
   "source": [
    "pca_rescaled = PCA(n_components=6)\n",
    "rescaled_X6D = pca_rescaled.fit_transform(rescaled_data)\n",
    "pca_rescaled.components_\n",
    "\n",
    "# Kmeans on rescaled data\n",
    "\n",
    "kmeans_on_pca = KMeans(n_clusters = 2)\n",
    "kmeans_on_pca_result = kmeans_on_pca.fit_transform(rescaled_X6D)\n",
    "\n",
    "print(f'kmeans_on_pca_result {kmeans_on_pca_result}')\n",
    "\n",
    "\n",
    "plt.scatter(kmeans_1_result[:,0],kmeans_1_result[:,1])\n",
    "plt.show()"
   ]
  },
  {
   "cell_type": "code",
   "execution_count": 74,
   "metadata": {},
   "outputs": [
    {
     "data": {
      "text/plain": [
       "array([ 0.82801315,  0.12375871,  0.02625285,  0.01075357,  0.00843011,\n",
       "        0.0022843 ])"
      ]
     },
     "execution_count": 74,
     "metadata": {},
     "output_type": "execute_result"
    }
   ],
   "source": [
    "pca_rescaled.explained_variance_ratio_"
   ]
  },
  {
   "cell_type": "markdown",
   "metadata": {},
   "source": [
    "The explained_variance_ratio of rescaled data makes more sense when compared to the explained_variance_ratio of the original data"
   ]
  },
  {
   "cell_type": "markdown",
   "metadata": {},
   "source": [
    "Now, since the number of dimensions have been reduced to 6, we can get better results from K-means clustering"
   ]
  },
  {
   "cell_type": "markdown",
   "metadata": {},
   "source": [
    "1. We first perform KMeans on just the rescaled data and observe the results."
   ]
  },
  {
   "cell_type": "code",
   "execution_count": 75,
   "metadata": {},
   "outputs": [
    {
     "data": {
      "text/plain": [
       "array([[ 0.62577444,  0.7001056 ,  0.50730362],\n",
       "       [ 0.92318108,  0.07909265,  0.31842017],\n",
       "       [ 0.68910684,  0.30844409,  0.17326413],\n",
       "       ..., \n",
       "       [ 0.92866198,  0.13994283,  0.3347073 ],\n",
       "       [ 0.92351216,  0.03436358,  0.31665961],\n",
       "       [ 0.9230744 ,  0.02515367,  0.31567222]])"
      ]
     },
     "execution_count": 75,
     "metadata": {},
     "output_type": "execute_result"
    }
   ],
   "source": [
    "kmeans = KMeans(n_clusters = 3)\n",
    "kmeans.fit_transform(rescaled_data)"
   ]
  },
  {
   "cell_type": "code",
   "execution_count": 76,
   "metadata": {},
   "outputs": [
    {
     "data": {
      "text/plain": [
       "array([[ 0.67088229,  0.54804901],\n",
       "       [ 0.08532573,  0.79285882],\n",
       "       [ 0.276047  ,  0.56274293],\n",
       "       ..., \n",
       "       [ 0.14212459,  0.79929477],\n",
       "       [ 0.05253293,  0.79313514],\n",
       "       [ 0.04692418,  0.79265323]])"
      ]
     },
     "execution_count": 76,
     "metadata": {},
     "output_type": "execute_result"
    }
   ],
   "source": [
    "kmeans_1 = KMeans(n_clusters = 2)\n",
    "kmeans_1_result=kmeans_1.fit_transform(rescaled_data)\n",
    "kmeans_1_result"
   ]
  },
  {
   "cell_type": "code",
   "execution_count": 77,
   "metadata": {
    "collapsed": true
   },
   "outputs": [],
   "source": [
    "import matplotlib.pyplot as plt"
   ]
  },
  {
   "cell_type": "code",
   "execution_count": 78,
   "metadata": {},
   "outputs": [
    {
     "data": {
      "image/png": "[encoded data removed]",
      "text/plain": [
       "<matplotlib.figure.Figure at 0x1edb11e5c18>"
      ]
     },
     "metadata": {},
     "output_type": "display_data"
    }
   ],
   "source": [
    "plt.scatter(kmeans_1_result[:,0],kmeans_1_result[:,1],c=kmeans_1.labels_, cmap='rainbow')\n",
    "plt.show()"
   ]
  },
  {
   "cell_type": "code",
   "execution_count": 79,
   "metadata": {},
   "outputs": [
    {
     "data": {
      "image/png": "[encoded data removed]",
      "text/plain": [
       "<matplotlib.figure.Figure at 0x1edb128a860>"
      ]
     },
     "metadata": {},
     "output_type": "display_data"
    }
   ],
   "source": [
    "plt.scatter(kmeans_1.cluster_centers_[:,0],kmeans_1.cluster_centers_[:,1],color='black')\n",
    "plt.show()"
   ]
  }
 ],
 "metadata": {
  "kernelspec": {
   "display_name": "Python 3",
   "language": "python",
   "name": "python3"
  },
  "language_info": {
   "codemirror_mode": {
    "name": "ipython",
    "version": 3
   },
   "file_extension": ".py",
   "mimetype": "text/x-python",
   "name": "python",
   "nbconvert_exporter": "python",
   "pygments_lexer": "ipython3",
   "version": "3.6.3"
  }
 },
 "nbformat": 4,
 "nbformat_minor": 2
}
