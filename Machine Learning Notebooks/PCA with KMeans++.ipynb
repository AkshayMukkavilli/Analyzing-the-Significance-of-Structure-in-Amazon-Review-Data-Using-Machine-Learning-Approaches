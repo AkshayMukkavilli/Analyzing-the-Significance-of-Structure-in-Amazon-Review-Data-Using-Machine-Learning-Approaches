{
 "cells": [
  {
   "cell_type": "code",
   "execution_count": 20,
   "metadata": {},
   "outputs": [],
   "source": [
    "import numpy as np\n",
    "import pandas as pd\n",
    "from sklearn.decomposition import PCA\n",
    "from sklearn.cluster import KMeans \n",
    "import matplotlib.pyplot as plt\n",
    "%matplotlib inline"
   ]
  },
  {
   "cell_type": "markdown",
   "metadata": {},
   "source": [
    "We do not need the following columns:\n",
    "1. Date\n",
    "2. Helpful Votes\n",
    "3. Words\n",
    "Since we cannot process dates and the other 2 since they are representing the same data as theit Z-Scores"
   ]
  },
  {
   "cell_type": "code",
   "execution_count": 6,
   "metadata": {},
   "outputs": [
    {
     "data": {
      "text/html": [
       "<div>\n",
       "<style>\n",
       "    .dataframe thead tr:only-child th {\n",
       "        text-align: right;\n",
       "    }\n",
       "\n",
       "    .dataframe thead th {\n",
       "        text-align: left;\n",
       "    }\n",
       "\n",
       "    .dataframe tbody tr th {\n",
       "        vertical-align: top;\n",
       "    }\n",
       "</style>\n",
       "<table border=\"1\" class=\"dataframe\">\n",
       "  <thead>\n",
       "    <tr style=\"text-align: right;\">\n",
       "      <th></th>\n",
       "      <th>Stars</th>\n",
       "      <th>Z_Score_HelpfulVotes</th>\n",
       "      <th>Z_Score_Words</th>\n",
       "      <th>Paragraphs</th>\n",
       "      <th>No.break tags</th>\n",
       "      <th>Percentage_Upper_Case</th>\n",
       "      <th>Percentage_Lower_Case</th>\n",
       "      <th>Avg_len_paragraph_per_review</th>\n",
       "    </tr>\n",
       "  </thead>\n",
       "  <tbody>\n",
       "    <tr>\n",
       "      <th>0</th>\n",
       "      <td>3</td>\n",
       "      <td>-0.235881</td>\n",
       "      <td>6.453577</td>\n",
       "      <td>1</td>\n",
       "      <td>0</td>\n",
       "      <td>3</td>\n",
       "      <td>93</td>\n",
       "      <td>3087.000000</td>\n",
       "    </tr>\n",
       "    <tr>\n",
       "      <th>1</th>\n",
       "      <td>5</td>\n",
       "      <td>0.915696</td>\n",
       "      <td>1.394079</td>\n",
       "      <td>3</td>\n",
       "      <td>4</td>\n",
       "      <td>3</td>\n",
       "      <td>91</td>\n",
       "      <td>300.000000</td>\n",
       "    </tr>\n",
       "    <tr>\n",
       "      <th>2</th>\n",
       "      <td>4</td>\n",
       "      <td>1.491485</td>\n",
       "      <td>3.666459</td>\n",
       "      <td>4</td>\n",
       "      <td>6</td>\n",
       "      <td>4</td>\n",
       "      <td>90</td>\n",
       "      <td>468.500000</td>\n",
       "    </tr>\n",
       "    <tr>\n",
       "      <th>3</th>\n",
       "      <td>4</td>\n",
       "      <td>5.522007</td>\n",
       "      <td>8.525083</td>\n",
       "      <td>11</td>\n",
       "      <td>20</td>\n",
       "      <td>3</td>\n",
       "      <td>91</td>\n",
       "      <td>394.272727</td>\n",
       "    </tr>\n",
       "    <tr>\n",
       "      <th>4</th>\n",
       "      <td>5</td>\n",
       "      <td>0.339908</td>\n",
       "      <td>1.795826</td>\n",
       "      <td>2</td>\n",
       "      <td>1</td>\n",
       "      <td>6</td>\n",
       "      <td>91</td>\n",
       "      <td>492.000000</td>\n",
       "    </tr>\n",
       "  </tbody>\n",
       "</table>\n",
       "</div>"
      ],
      "text/plain": [
       "   Stars  Z_Score_HelpfulVotes  Z_Score_Words  Paragraphs  No.break tags  \\\n",
       "0      3             -0.235881       6.453577           1              0   \n",
       "1      5              0.915696       1.394079           3              4   \n",
       "2      4              1.491485       3.666459           4              6   \n",
       "3      4              5.522007       8.525083          11             20   \n",
       "4      5              0.339908       1.795826           2              1   \n",
       "\n",
       "   Percentage_Upper_Case  Percentage_Lower_Case  Avg_len_paragraph_per_review  \n",
       "0                      3                     93                   3087.000000  \n",
       "1                      3                     91                    300.000000  \n",
       "2                      4                     90                    468.500000  \n",
       "3                      3                     91                    394.272727  \n",
       "4                      6                     91                    492.000000  "
      ]
     },
     "execution_count": 6,
     "metadata": {},
     "output_type": "execute_result"
    }
   ],
   "source": [
    "data = pd.read_csv(r'C:\\Users\\aksha\\PycharmProjects\\FinalProject_WorkingCopy\\FinalFeatures.csv')\n",
    "data_less_columns = data.drop(['Date','Helpful Votes','Words'],axis = 1)\n",
    "data_less_columns.head()"
   ]
  },
  {
   "cell_type": "markdown",
   "metadata": {},
   "source": [
    "We want to perform PCA on the data in order to reduce the number of dimensions it has.\n",
    "\n",
    "PCA is known to work better when the data is properly scaled. Now, since the data has a wide variety of scales, dimensionality reduction will not be accurate until the data is rescaled."
   ]
  },
  {
   "cell_type": "code",
   "execution_count": 11,
   "metadata": {},
   "outputs": [
    {
     "data": {
      "text/html": [
       "<div>\n",
       "<style>\n",
       "    .dataframe thead tr:only-child th {\n",
       "        text-align: right;\n",
       "    }\n",
       "\n",
       "    .dataframe thead th {\n",
       "        text-align: left;\n",
       "    }\n",
       "\n",
       "    .dataframe tbody tr th {\n",
       "        vertical-align: top;\n",
       "    }\n",
       "</style>\n",
       "<table border=\"1\" class=\"dataframe\">\n",
       "  <thead>\n",
       "    <tr style=\"text-align: right;\">\n",
       "      <th></th>\n",
       "      <th>Stars</th>\n",
       "      <th>Z_Score_HelpfulVotes</th>\n",
       "      <th>Z_Score_Words</th>\n",
       "      <th>Paragraphs</th>\n",
       "      <th>No.break tags</th>\n",
       "      <th>Percentage_Upper_Case</th>\n",
       "      <th>Percentage_Lower_Case</th>\n",
       "      <th>Avg_len_paragraph_per_review</th>\n",
       "    </tr>\n",
       "  </thead>\n",
       "  <tbody>\n",
       "    <tr>\n",
       "      <th>0</th>\n",
       "      <td>0.50</td>\n",
       "      <td>0.000484</td>\n",
       "      <td>0.315262</td>\n",
       "      <td>0.000000</td>\n",
       "      <td>0.000000</td>\n",
       "      <td>0.03</td>\n",
       "      <td>0.93</td>\n",
       "      <td>0.417478</td>\n",
       "    </tr>\n",
       "    <tr>\n",
       "      <th>1</th>\n",
       "      <td>1.00</td>\n",
       "      <td>0.025593</td>\n",
       "      <td>0.091377</td>\n",
       "      <td>0.015873</td>\n",
       "      <td>0.026846</td>\n",
       "      <td>0.03</td>\n",
       "      <td>0.91</td>\n",
       "      <td>0.040449</td>\n",
       "    </tr>\n",
       "    <tr>\n",
       "      <th>2</th>\n",
       "      <td>0.75</td>\n",
       "      <td>0.038147</td>\n",
       "      <td>0.191931</td>\n",
       "      <td>0.023810</td>\n",
       "      <td>0.040268</td>\n",
       "      <td>0.04</td>\n",
       "      <td>0.90</td>\n",
       "      <td>0.063244</td>\n",
       "    </tr>\n",
       "    <tr>\n",
       "      <th>3</th>\n",
       "      <td>0.75</td>\n",
       "      <td>0.126026</td>\n",
       "      <td>0.406928</td>\n",
       "      <td>0.079365</td>\n",
       "      <td>0.134228</td>\n",
       "      <td>0.03</td>\n",
       "      <td>0.91</td>\n",
       "      <td>0.053202</td>\n",
       "    </tr>\n",
       "    <tr>\n",
       "      <th>4</th>\n",
       "      <td>1.00</td>\n",
       "      <td>0.013038</td>\n",
       "      <td>0.109154</td>\n",
       "      <td>0.007937</td>\n",
       "      <td>0.006711</td>\n",
       "      <td>0.06</td>\n",
       "      <td>0.91</td>\n",
       "      <td>0.066423</td>\n",
       "    </tr>\n",
       "  </tbody>\n",
       "</table>\n",
       "</div>"
      ],
      "text/plain": [
       "   Stars  Z_Score_HelpfulVotes  Z_Score_Words  Paragraphs  No.break tags  \\\n",
       "0   0.50              0.000484       0.315262    0.000000       0.000000   \n",
       "1   1.00              0.025593       0.091377    0.015873       0.026846   \n",
       "2   0.75              0.038147       0.191931    0.023810       0.040268   \n",
       "3   0.75              0.126026       0.406928    0.079365       0.134228   \n",
       "4   1.00              0.013038       0.109154    0.007937       0.006711   \n",
       "\n",
       "   Percentage_Upper_Case  Percentage_Lower_Case  Avg_len_paragraph_per_review  \n",
       "0                   0.03                   0.93                      0.417478  \n",
       "1                   0.03                   0.91                      0.040449  \n",
       "2                   0.04                   0.90                      0.063244  \n",
       "3                   0.03                   0.91                      0.053202  \n",
       "4                   0.06                   0.91                      0.066423  "
      ]
     },
     "execution_count": 11,
     "metadata": {},
     "output_type": "execute_result"
    }
   ],
   "source": [
    "from sklearn.preprocessing import MinMaxScaler\n",
    "scaler = MinMaxScaler(feature_range = (0,1))\n",
    "\n",
    "rescaled_data = scaler.fit_transform(data_less_columns)\n",
    "rescaled_data = pd.DataFrame(rescaled_data,columns=data_less_columns.columns)\n",
    "rescaled_data.head()"
   ]
  },
  {
   "cell_type": "markdown",
   "metadata": {},
   "source": [
    "Now, we will try to perform PCA on the rescaled data"
   ]
  },
  {
   "cell_type": "code",
   "execution_count": 13,
   "metadata": {},
   "outputs": [
    {
     "data": {
      "text/plain": [
       "array([[  1.00000000e+00,  -0.00000000e+00,  -0.00000000e+00,\n",
       "         -0.00000000e+00,  -0.00000000e+00,  -0.00000000e+00],\n",
       "       [ -0.00000000e+00,   1.00000000e+00,   2.73734454e-16,\n",
       "         -2.14402001e-16,  -5.16898490e-17,   3.99487601e-17],\n",
       "       [  0.00000000e+00,  -1.32406944e-16,   1.00000000e+00,\n",
       "         -1.42409237e-16,  -3.21004799e-16,   2.95901988e-16],\n",
       "       [  0.00000000e+00,   3.24700706e-16,   1.16743719e-16,\n",
       "          1.00000000e+00,  -4.69641370e-15,   4.43976299e-16],\n",
       "       [ -0.00000000e+00,  -8.79841201e-19,   3.46284822e-16,\n",
       "          4.69895092e-15,   1.00000000e+00,  -5.19031601e-18],\n",
       "       [  0.00000000e+00,  -1.10741392e-16,  -3.15067442e-16,\n",
       "         -3.82943626e-16,   1.20778413e-16,   1.00000000e+00]])"
      ]
     },
     "execution_count": 13,
     "metadata": {},
     "output_type": "execute_result"
    }
   ],
   "source": [
    "pca_rescaled = PCA(n_components=6)\n",
    "pca_rescaled_data = pca_rescaled.fit_transform(rescaled_data)\n",
    "pca_rescaled.components_"
   ]
  },
  {
   "cell_type": "markdown",
   "metadata": {},
   "source": [
    "KMeans Clustering\n",
    "\n",
    "In order to determine the ideal number of clusters that we need, we can try KMeans with multiple cluster ranges and find the best value for k using the elbow method.\n",
    "\n",
    "The elbow method is based on the WCSS(Within Cluster Sum of Squares) which calculates the sum of distances from the centroids to each point within a cluster, square it and add the value to the sums of all the other clusters.\n",
    "\n",
    "Lesser the total value of WCSS for a value of k the better we fit the data."
   ]
  },
  {
   "cell_type": "markdown",
   "metadata": {},
   "source": [
    "Using the elbow method to find the optimal number of clusters for our dataset."
   ]
  },
  {
   "cell_type": "code",
   "execution_count": 35,
   "metadata": {},
   "outputs": [
    {
     "data": {
      "image/png": "[encoded data removed]",
      "text/plain": [
       "<matplotlib.figure.Figure at 0x1d179347b70>"
      ]
     },
     "metadata": {},
     "output_type": "display_data"
    }
   ],
   "source": [
    "wcss = []\n",
    "for i in range(1,11):\n",
    "    kmeans = KMeans(n_clusters = i, init = 'k-means++', max_iter=300, n_init = 10, random_state = 0)\n",
    "    kmeans.fit(pca_rescaled_data)\n",
    "    wcss.append(kmeans.inertia_) # inertia_ (refers to WCSS)is the attribute provided by sklearn for the value of WCSS.\n",
    "plt.plot(range(1,11),wcss)\n",
    "plt.title(\"The Elbow Method\")\n",
    "plt.xlabel(\"Number of Clusters\")\n",
    "plt.ylabel(\"WCSS\")\n",
    "plt.show()"
   ]
  },
  {
   "cell_type": "markdown",
   "metadata": {},
   "source": [
    "Here it is pretty clear to us that the ideal number of clusters is 4 since the elbow is at \"4\".\n",
    "\n",
    "Now, we can perform KMeans clustering with the value of k as 4"
   ]
  },
  {
   "cell_type": "code",
   "execution_count": 36,
   "metadata": {},
   "outputs": [
    {
     "data": {
      "text/plain": [
       "0    0\n",
       "1    1\n",
       "2    0\n",
       "3    0\n",
       "4    1\n",
       "dtype: int32"
      ]
     },
     "execution_count": 36,
     "metadata": {},
     "output_type": "execute_result"
    }
   ],
   "source": [
    "kmeans = KMeans(n_clusters = 4, init = 'k-means++', random_state=0, max_iter=300, n_init=10)\n",
    "kmeans_cluster_no_each_review = kmeans.fit_predict(rescaled_data)\n",
    "kmeans_cluster_no_each_review = pd.Series(kmeans_cluster_no_each_review)\n",
    "kmeans_cluster_no_each_review.head()"
   ]
  },
  {
   "cell_type": "code",
   "execution_count": null,
   "metadata": {
    "collapsed": true
   },
   "outputs": [],
   "source": []
  }
 ],
 "metadata": {
  "kernelspec": {
   "display_name": "Python 3",
   "language": "python",
   "name": "python3"
  },
  "language_info": {
   "codemirror_mode": {
    "name": "ipython",
    "version": 3
   },
   "file_extension": ".py",
   "mimetype": "text/x-python",
   "name": "python",
   "nbconvert_exporter": "python",
   "pygments_lexer": "ipython3",
   "version": "3.6.3"
  }
 },
 "nbformat": 4,
 "nbformat_minor": 2
}
