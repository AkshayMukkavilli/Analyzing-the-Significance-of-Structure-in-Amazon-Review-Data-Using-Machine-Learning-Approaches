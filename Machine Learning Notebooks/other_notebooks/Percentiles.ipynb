{
 "cells": [
  {
   "cell_type": "code",
   "execution_count": 1,
   "metadata": {},
   "outputs": [],
   "source": [
    "import pandas as pd\n",
    "import numpy as np"
   ]
  },
  {
   "cell_type": "code",
   "execution_count": 3,
   "metadata": {},
   "outputs": [
    {
     "data": {
      "text/html": [
       "<div>\n",
       "<style scoped>\n",
       "    .dataframe tbody tr th:only-of-type {\n",
       "        vertical-align: middle;\n",
       "    }\n",
       "\n",
       "    .dataframe tbody tr th {\n",
       "        vertical-align: top;\n",
       "    }\n",
       "\n",
       "    .dataframe thead th {\n",
       "        text-align: right;\n",
       "    }\n",
       "</style>\n",
       "<table border=\"1\" class=\"dataframe\">\n",
       "  <thead>\n",
       "    <tr style=\"text-align: right;\">\n",
       "      <th></th>\n",
       "      <th>Date</th>\n",
       "      <th>Stars</th>\n",
       "      <th>Helpful_Votes</th>\n",
       "      <th>Words</th>\n",
       "      <th>Paragraphs</th>\n",
       "      <th>No.break tags</th>\n",
       "      <th>Percentage_Upper_Case</th>\n",
       "      <th>Percentage_Lower_Case</th>\n",
       "      <th>Avg_len_paragraph_per_review</th>\n",
       "      <th>Z_Score_Words</th>\n",
       "      <th>Z_Score_Helpful_Votes</th>\n",
       "    </tr>\n",
       "  </thead>\n",
       "  <tbody>\n",
       "    <tr>\n",
       "      <th>0</th>\n",
       "      <td>01/4/2018</td>\n",
       "      <td>4</td>\n",
       "      <td>145</td>\n",
       "      <td>268</td>\n",
       "      <td>8</td>\n",
       "      <td>14</td>\n",
       "      <td>3</td>\n",
       "      <td>90</td>\n",
       "      <td>166.125000</td>\n",
       "      <td>1.321147</td>\n",
       "      <td>0.550824</td>\n",
       "    </tr>\n",
       "    <tr>\n",
       "      <th>1</th>\n",
       "      <td>04/11/2018</td>\n",
       "      <td>1</td>\n",
       "      <td>77</td>\n",
       "      <td>130</td>\n",
       "      <td>2</td>\n",
       "      <td>2</td>\n",
       "      <td>2</td>\n",
       "      <td>94</td>\n",
       "      <td>352.500000</td>\n",
       "      <td>0.255207</td>\n",
       "      <td>0.263646</td>\n",
       "    </tr>\n",
       "    <tr>\n",
       "      <th>2</th>\n",
       "      <td>11/4/2017</td>\n",
       "      <td>1</td>\n",
       "      <td>77</td>\n",
       "      <td>110</td>\n",
       "      <td>1</td>\n",
       "      <td>0</td>\n",
       "      <td>3</td>\n",
       "      <td>90</td>\n",
       "      <td>556.000000</td>\n",
       "      <td>0.100722</td>\n",
       "      <td>0.263646</td>\n",
       "    </tr>\n",
       "    <tr>\n",
       "      <th>3</th>\n",
       "      <td>07/5/2015</td>\n",
       "      <td>5</td>\n",
       "      <td>1559</td>\n",
       "      <td>110</td>\n",
       "      <td>3</td>\n",
       "      <td>4</td>\n",
       "      <td>3</td>\n",
       "      <td>92</td>\n",
       "      <td>188.666667</td>\n",
       "      <td>0.100722</td>\n",
       "      <td>6.522436</td>\n",
       "    </tr>\n",
       "    <tr>\n",
       "      <th>4</th>\n",
       "      <td>07/14/2017</td>\n",
       "      <td>1</td>\n",
       "      <td>51</td>\n",
       "      <td>39</td>\n",
       "      <td>1</td>\n",
       "      <td>0</td>\n",
       "      <td>3</td>\n",
       "      <td>96</td>\n",
       "      <td>216.000000</td>\n",
       "      <td>-0.447696</td>\n",
       "      <td>0.153843</td>\n",
       "    </tr>\n",
       "  </tbody>\n",
       "</table>\n",
       "</div>"
      ],
      "text/plain": [
       "         Date  Stars  Helpful_Votes  Words  Paragraphs  No.break tags  \\\n",
       "0   01/4/2018      4            145    268           8             14   \n",
       "1  04/11/2018      1             77    130           2              2   \n",
       "2   11/4/2017      1             77    110           1              0   \n",
       "3   07/5/2015      5           1559    110           3              4   \n",
       "4  07/14/2017      1             51     39           1              0   \n",
       "\n",
       "   Percentage_Upper_Case  Percentage_Lower_Case  Avg_len_paragraph_per_review  \\\n",
       "0                      3                     90                    166.125000   \n",
       "1                      2                     94                    352.500000   \n",
       "2                      3                     90                    556.000000   \n",
       "3                      3                     92                    188.666667   \n",
       "4                      3                     96                    216.000000   \n",
       "\n",
       "   Z_Score_Words  Z_Score_Helpful_Votes  \n",
       "0       1.321147               0.550824  \n",
       "1       0.255207               0.263646  \n",
       "2       0.100722               0.263646  \n",
       "3       0.100722               6.522436  \n",
       "4      -0.447696               0.153843  "
      ]
     },
     "execution_count": 3,
     "metadata": {},
     "output_type": "execute_result"
    }
   ],
   "source": [
    "dataset = pd.read_csv(r'/Users/t_velpac/mission/WorkingCopy/Features_V3.csv')\n",
    "dataset.drop(columns = ['Z_Score_HelpfulVotes','Z_Score_Words'], inplace=True)\n",
    "dataset.rename(index=str, columns={\"Helpful Votes\": \"Helpful_Votes\"}, inplace=True)\n",
    "dataset = dataset[dataset.Helpful_Votes != 0]\n",
    "\n",
    "\n",
    "\"\"\"\n",
    "Calculating Z-Scores again for Helpful Votes and Words\n",
    "\"\"\"\n",
    "dataset['Z_Score_Words'] = (dataset['Words'] - dataset['Words'].mean()) / dataset['Words'].std(ddof=0)\n",
    "dataset['Z_Score_Helpful_Votes'] = (dataset['Helpful_Votes'] - dataset['Helpful_Votes'].mean()) / dataset['Helpful_Votes'].std(ddof=0)\n",
    "\n",
    "# \"\"\"\n",
    "# Dropping Helpful Votes and Words columns since we have their z-scores\n",
    "# \"\"\"\n",
    "# dataset.drop(columns = [\"Helpful_Votes\", \"Words\", \"Date\"], inplace=True)\n",
    "dataset.head()"
   ]
  },
  {
   "cell_type": "code",
   "execution_count": 34,
   "metadata": {},
   "outputs": [
    {
     "name": "stdout",
     "output_type": "stream",
     "text": [
      "1.0\n",
      "1.0\n",
      "2.0\n",
      "11.0\n",
      "123.0\n",
      "24.0\n",
      "19732.0\n"
     ]
    }
   ],
   "source": [
    "print(dataset.Helpful_Votes.quantile(0.1))\n",
    "print(dataset.Helpful_Votes.quantile(0.52))\n",
    "print(dataset.Helpful_Votes.quantile(0.53))\n",
    "print(dataset.Helpful_Votes.quantile(0.9))\n",
    "print(dataset.Helpful_Votes.quantile(0.99))\n",
    "print(dataset.Helpful_Votes.quantile(0.95))\n",
    "print(dataset.Helpful_Votes.quantile(1))"
   ]
  },
  {
   "cell_type": "code",
   "execution_count": 11,
   "metadata": {},
   "outputs": [
    {
     "name": "stdout",
     "output_type": "stream",
     "text": [
      "0.0\n",
      "0.0\n",
      "2.0\n",
      "33.0\n",
      "5.0\n",
      "19732.0\n"
     ]
    }
   ],
   "source": [
    "dataset_raw = pd.read_csv(r'/Users/t_velpac/mission/WorkingCopy/Features_V3.csv')\n",
    "dataset_raw.rename(index=str, columns={\"Helpful Votes\": \"Helpful_Votes\"}, inplace=True)\n",
    "print(dataset_raw.Helpful_Votes.quantile(0.1))\n",
    "print(dataset_raw.Helpful_Votes.quantile(0.2))\n",
    "print(dataset_raw.Helpful_Votes.quantile(0.9))\n",
    "print(dataset_raw.Helpful_Votes.quantile(0.99))\n",
    "print(dataset_raw.Helpful_Votes.quantile(0.95))\n",
    "print(dataset_raw.Helpful_Votes.quantile(1))"
   ]
  },
  {
   "cell_type": "code",
   "execution_count": 33,
   "metadata": {},
   "outputs": [
    {
     "name": "stdout",
     "output_type": "stream",
     "text": [
      "0.0\n",
      "0.0\n",
      "0.0\n",
      "1.0\n",
      "\n",
      "\n",
      "2.0\n",
      "3.0\n",
      "5.0\n",
      "19732.0\n"
     ]
    }
   ],
   "source": [
    "print(dataset_raw.Helpful_Votes.quantile(0.1))\n",
    "print(dataset_raw.Helpful_Votes.quantile(0.2))\n",
    "print(dataset_raw.Helpful_Votes.quantile(0.71))\n",
    "print(dataset_raw.Helpful_Votes.quantile(0.72))\n",
    "print('\\n')\n",
    "print(dataset_raw.Helpful_Votes.quantile(0.9))\n",
    "print(dataset_raw.Helpful_Votes.quantile(0.91))\n",
    "print(dataset_raw.Helpful_Votes.quantile(0.95))\n",
    "print(dataset_raw.Helpful_Votes.quantile(1))"
   ]
  },
  {
   "cell_type": "code",
   "execution_count": null,
   "metadata": {},
   "outputs": [],
   "source": []
  }
 ],
 "metadata": {
  "kernelspec": {
   "display_name": "Python 3",
   "language": "python",
   "name": "python3"
  },
  "language_info": {
   "codemirror_mode": {
    "name": "ipython",
    "version": 3
   },
   "file_extension": ".py",
   "mimetype": "text/x-python",
   "name": "python",
   "nbconvert_exporter": "python",
   "pygments_lexer": "ipython3",
   "version": "3.6.8"
  }
 },
 "nbformat": 4,
 "nbformat_minor": 2
}
